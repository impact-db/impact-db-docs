{
 "cells": [
  {
   "cell_type": "raw",
   "metadata": {},
   "source": [
    ".. toctree::\n",
    "   :maxdepth: 2\n",
    "   :caption: Contents:\n",
    "   \n",
    "   Home <self>\n",
    "   description.md\n",
    "   notebooks/upload_demonstration\n",
    "   notebooks/readdemo"
   ]
  },
  {
   "attachments": {},
   "cell_type": "markdown",
   "metadata": {},
   "source": [
    "# ImpactDB Paper Upload Demo\n",
    "This notebook demostrates how papers can be added to [ImpactDB](https://impact-database.com) using an API\n",
    "\n",
    "\n",
    "Users are required to authenticate themselves before they can upload data to the database via a token. Users can access their tokens by signing into ImpactDB and navigating to their user information page: [ImpactDB User Info Page](https://impact-database.com)\n",
    "\n",
    "Note: testing of the api can be done using this url: http://localhost:5001/impact-db/us-central1/uploadPaper\n"
   ]
  },
  {
   "cell_type": "markdown",
   "metadata": {},
   "source": [
    "### Load Imports"
   ]
  },
  {
   "cell_type": "code",
   "execution_count": 1,
   "metadata": {},
   "outputs": [
    {
     "name": "stderr",
     "output_type": "stream",
     "text": [
      "/var/folders/9t/dd3h8kv91tb87jyd_q_3fg100000gn/T/ipykernel_8675/1932043172.py:3: DeprecationWarning: \n",
      "Pyarrow will become a required dependency of pandas in the next major release of pandas (pandas 3.0),\n",
      "(to allow more performant data types, such as the Arrow string type, and better interoperability with other libraries)\n",
      "but was not found to be installed on your system.\n",
      "If this would cause problems for you,\n",
      "please provide us feedback at https://github.com/pandas-dev/pandas/issues/54466\n",
      "        \n",
      "  import pandas as pd\n"
     ]
    },
    {
     "data": {
      "text/html": [
       "\n",
       "<style>\n",
       "    div.cell_output {\n",
       "        max-width: 1920px;\n",
       "        overflow-x: auto;\n",
       "        display: block;\n",
       "    }\n",
       "</style>\n"
      ],
      "text/plain": [
       "<IPython.core.display.HTML object>"
      ]
     },
     "metadata": {},
     "output_type": "display_data"
    }
   ],
   "source": [
    "import json\n",
    "import requests\n",
    "import pandas as pd\n",
    "import datetime\n",
    "\n",
    "from IPython.core.display import HTML\n",
    "\n",
    "custom_css = \"\"\"\n",
    "<style>\n",
    "    div.cell_output {\n",
    "        max-width: 1920px;\n",
    "        overflow-x: auto;\n",
    "        display: block;\n",
    "    }\n",
    "</style>\n",
    "\"\"\"\n",
    "\n",
    "display(HTML(custom_css))"
   ]
  },
  {
   "cell_type": "markdown",
   "metadata": {},
   "source": [
    "### Define a function to handle date validation"
   ]
  },
  {
   "cell_type": "code",
   "execution_count": 2,
   "metadata": {},
   "outputs": [],
   "source": [
    "# helper function to handle date\n",
    "def validate_or_convert_date(date_value):\n",
    "    if isinstance(date_value, str):\n",
    "        try:\n",
    "            datetime.datetime.strptime(date_value, '%Y-%m-%d')\n",
    "            return date_value  # It's a valid date string\n",
    "        except ValueError:\n",
    "            return None  # It's not a valid date string\n",
    "    elif isinstance(date_value, int):\n",
    "        return f\"{date_value}-01-01\"  # Convert year to YYYY-MM-DD\n",
    "    else:\n",
    "        return None  # Not a string or integer, invalid format"
   ]
  },
  {
   "cell_type": "markdown",
   "metadata": {},
   "source": [
    "### 1. Upload paper data\n",
    "These papers are from the E. coli database"
   ]
  },
  {
   "cell_type": "code",
   "execution_count": 3,
   "metadata": {},
   "outputs": [
    {
     "data": {
      "text/plain": [
       "{'title': 'Growing E. coli to high cell densityâ\\x80\\x94a historical perspective on method development',\n",
       " 'authors': 'J Shiloach, R Fass',\n",
       " 'journal': 'Biotechnology advances',\n",
       " 'date': '2005-01-01',\n",
       " 'doi': 'https://doi.org/10.1016/j.biotechadv.2005.04.004',\n",
       " 'abstract': \"E. coli\\xa0is the major bacterial platform for expressing simple heterologous proteins. Growing\\xa0E. coli\\xa0to high densities has been the subject of numerous studies since the early 1970s, exploring the limits of\\xa0bacterial culture\\xa0density in order to achieve maximum productivity. Research strategies were focused on improving the cultivation techniques, manipulating the bacteria's physiology or both. As a result, batch, fed batch and dialysis\\xa0fermentation techniques\\xa0had been developed. These growth strategies, together with optimization of media composition and the application of molecular biology methods, made it possible to grow\\xa0E. coli\\xa0to cell densities of up to 190 g/l (dry weight), while avoiding media precipitation and preventing acetate accumulation. Additional research on the effects of heterologous\\xa0protein biosynthesis\\xa0on\\xa0signal transduction,\\xa0proteolysis\\xa0and post transcription events in\\xa0E. coli\\xa0may improve its productivity.\"}"
      ]
     },
     "execution_count": 3,
     "metadata": {},
     "output_type": "execute_result"
    }
   ],
   "source": [
    "e_coli_papers = pd.read_csv('../data/ecoli_robust_cleaned.csv')\n",
    "\n",
    "# If the DataFrame row is already in a suitable format like a dictionary\n",
    "first_paper = e_coli_papers.iloc[0].to_dict()\n",
    "\n",
    "# fix the date\n",
    "first_paper['date'] = validate_or_convert_date(first_paper['date'])\n",
    "\n",
    "first_paper"
   ]
  },
  {
   "cell_type": "markdown",
   "metadata": {},
   "source": [
    "### Upload one paper"
   ]
  },
  {
   "cell_type": "code",
   "execution_count": 4,
   "metadata": {},
   "outputs": [
    {
     "name": "stdout",
     "output_type": "stream",
     "text": [
      "Error: Invalid JWT. Please include a valid JWT from https://impact-database.com/userinfo.\n"
     ]
    }
   ],
   "source": [
    "# this is the url of the api endpoint (or the testing endpoint)\n",
    "# url = 'https://us-central1-impact-db.cloudfunctions.net/uploadExperimentalData'\n",
    "url = 'http://localhost:5001/impact-db/us-central1/uploadPaper'\n",
    "\n",
    "# replace YOUR_JWT_TOKEN with the token you get from your user info page: https://impact-database.com/userinfo\n",
    "your_jwt_token = \"YOUR_JWT_TOKEN\"\n",
    "\n",
    "# headers for the request\n",
    "headers = {\n",
    "    \"Content-Type\": \"application/json\",\n",
    "    \"Authorization\": f\"Bearer {your_jwt_token}\",\n",
    "}\n",
    "\n",
    "# data to be uploaded\n",
    "data = {\n",
    "    'species': 'escherichia',\n",
    "    'paper': first_paper,\n",
    "}\n",
    "\n",
    "# send the post request to the api\n",
    "response = requests.post(url, data=json.dumps(data), headers=headers)\n",
    "\n",
    "print(response.text)"
   ]
  },
  {
   "cell_type": "markdown",
   "metadata": {},
   "source": [
    "### An example loop to upload many papers"
   ]
  },
  {
   "cell_type": "code",
   "execution_count": 5,
   "metadata": {},
   "outputs": [
    {
     "name": "stdout",
     "output_type": "stream",
     "text": [
      "Error: Invalid JWT. Please include a valid JWT from https://impact-database.com/userinfo.\n",
      "Error: Invalid JWT. Please include a valid JWT from https://impact-database.com/userinfo.\n",
      "Error: Invalid JWT. Please include a valid JWT from https://impact-database.com/userinfo.\n"
     ]
    }
   ],
   "source": [
    "for _, row in e_coli_papers[:3].iterrows():\n",
    "    paper = row.to_dict()\n",
    "\n",
    "    paper['date'] = validate_or_convert_date(paper['date'])\n",
    "\n",
    "    data = {\n",
    "        'species': 'escherichia',\n",
    "        'paper': paper,\n",
    "    }\n",
    "    response = requests.post(url, data=json.dumps(data), headers=headers)\n",
    "\n",
    "    print(response.text)\n"
   ]
  }
 ],
 "metadata": {
  "kernelspec": {
   "display_name": "venv",
   "language": "python",
   "name": "python3"
  },
  "language_info": {
   "codemirror_mode": {
    "name": "ipython",
    "version": 3
   },
   "file_extension": ".py",
   "mimetype": "text/x-python",
   "name": "python",
   "nbconvert_exporter": "python",
   "pygments_lexer": "ipython3",
   "version": "3.10.2"
  },
  "orig_nbformat": 4
 },
 "nbformat": 4,
 "nbformat_minor": 2
}
